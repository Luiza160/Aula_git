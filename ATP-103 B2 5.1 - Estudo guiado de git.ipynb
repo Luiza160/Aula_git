{
 "cells": [
  {
   "cell_type": "markdown",
   "id": "10296c4b-4f7b-4cc6-969f-177075839528",
   "metadata": {},
   "source": [
    "Estudo guiado de git\n",
    "====================\n",
    "\n",
    "**Autor:** Daniel R. Cassar\n",
    "\n"
   ]
  },
  {
   "cell_type": "markdown",
   "id": "9c152a9d-7a31-440b-9357-be3cf69579d4",
   "metadata": {},
   "source": [
    "## Perguntas para estudo guiado\n",
    "\n"
   ]
  },
  {
   "cell_type": "markdown",
   "id": "d0c75534-ab09-4ed1-a700-98a37e6c11eb",
   "metadata": {},
   "source": [
    "1.  O que é e para que serve o git?\n",
    "\n",
    "2.  O que é um repositório online de git (como, por exemplo, o GitHub)?\n",
    "\n",
    "3.  Para que serve o arquivo de `README`?\n",
    "\n",
    "4.  Para que serve o arquivo `LICENSE`?\n",
    "\n",
    "5.  Para que serve o arquivo `.gitignore`?\n",
    "\n",
    "6.  O que faz o comando `git clone`?\n",
    "\n",
    "7.  O que faz o comando `git status`?\n",
    "\n",
    "8.  O que faz o comando `git add`?\n",
    "\n",
    "9.  O que faz o comando `git commit`?\n",
    "\n",
    "10. O que faz o comando `git push`?\n",
    "\n",
    "11. O que faz o comando `git pull`?\n",
    "\n",
    "12. Para que serve criar um ramo (*branch*) novo?\n",
    "\n",
    "13. O que faz o comando `git checkout`?\n",
    "\n",
    "14. O que é um fork?\n",
    "\n",
    "15. O que é um *pull request*?\n",
    "\n"
   ]
  },
  {
   "cell_type": "markdown",
   "id": "9cc2234c-e572-48f6-9a6d-3e65cd3ad2e5",
   "metadata": {},
   "source": [
    "## Material para estudo\n",
    "\n"
   ]
  },
  {
   "cell_type": "markdown",
   "id": "176440a5-7f5f-410f-a89c-b072bb1b4577",
   "metadata": {},
   "source": [
    "Livro Pro Git: [https://git-scm.com/book/en/v2](https://git-scm.com/book/en/v2). A versão em português ainda não está completa, mas já foi iniciada: [https://git-scm.com/book/pt-br/v2](https://git-scm.com/book/pt-br/v2).\n",
    "\n",
    "Vídeo &ldquo;O que é Git e GitHub?&rdquo; [https://www.youtube.com/watch?v=DqTITcMq68k&pp=ygUIYXVsYSBnaXQ%3D](https://www.youtube.com/watch?v=DqTITcMq68k&pp=ygUIYXVsYSBnaXQ%3D).\n",
    "\n",
    "Vídeo &ldquo;Como usar Git e GitHub?&rdquo; [https://www.youtube.com/watch?v=UBAX-13g8OM&t=31s&pp=ygUIYXVsYSBnaXQ%3D](https://www.youtube.com/watch?v=UBAX-13g8OM&t=31s&pp=ygUIYXVsYSBnaXQ%3D).\n",
    "\n",
    "Tutorial interativo visual: [https://learngitbranching.js.org/?locale=pt_BR](https://learngitbranching.js.org/?locale=pt_BR).\n",
    "\n",
    "Problemas comuns e possíveis soluções: [https://dangitgit.com/pt_BR](https://dangitgit.com/pt_BR).\n",
    "\n",
    "Git Cheat Sheet: [https://education.github.com/git-cheat-sheet-education.pdf](https://education.github.com/git-cheat-sheet-education.pdf)\n",
    "\n"
   ]
  },
  {
   "cell_type": "markdown",
   "id": "c8c3e410-e38e-4ad5-892b-be2fca7a2ebd",
   "metadata": {},
   "source": [
    "## XKCD relevante\n",
    "\n"
   ]
  },
  {
   "cell_type": "markdown",
   "id": "ef43f1fd-9010-4416-9956-f602750b048a",
   "metadata": {},
   "source": [
    "![img](https://imgs.xkcd.com/comics/git.png)\n",
    "\n",
    "`Imagem: Git (XKCD) disponível em https://xkcd.com/1597`\n",
    "\n"
   ]
  }
 ],
 "metadata": {
  "kernelspec": {
   "display_name": "Python 3 (ipykernel)",
   "language": "python",
   "name": "python3"
  },
  "language_info": {
   "codemirror_mode": {
    "name": "ipython",
    "version": 3
   },
   "file_extension": ".py",
   "mimetype": "text/x-python",
   "name": "python",
   "nbconvert_exporter": "python",
   "pygments_lexer": "ipython3",
   "version": "3.10.12"
  },
  "org": null
 },
 "nbformat": 4,
 "nbformat_minor": 5
}
